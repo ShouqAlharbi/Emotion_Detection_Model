{
 "cells": [
  {
   "cell_type": "markdown",
   "metadata": {},
   "source": [
    "## **TrainEmotionDetector**"
   ]
  },
  {
   "cell_type": "code",
   "execution_count": 2,
   "metadata": {
    "id": "IkuMANb8rEER"
   },
   "outputs": [],
   "source": [
    "import cv2\n",
    "from keras.models import Sequential\n",
    "from keras.layers import Conv2D, MaxPooling2D, Dense, Dropout, Flatten\n",
    "from keras.optimizers import Adam\n",
    "from keras.preprocessing.image import ImageDataGenerator\n",
    "import tensorflow as tf\n",
    "import matplotlib.pyplot as plt\n",
    "import numpy as np\n",
    "from keras.models import model_from_json\n",
    "import matplotlib.pyplot as plt\n",
    "from keras.preprocessing.image import ImageDataGenerator\n",
    "from sklearn.metrics import confusion_matrix, classification_report,ConfusionMatrixDisplay"
   ]
  },
  {
   "cell_type": "code",
   "execution_count": 3,
   "metadata": {
    "id": "9W5SpBkPxS9p"
   },
   "outputs": [],
   "source": [
    "# Initialize image data generator with rescaling\n",
    "train_data_gen = ImageDataGenerator(rescale=1./255)\n",
    "validation_data_gen = ImageDataGenerator(rescale=1./255)"
   ]
  },
  {
   "cell_type": "code",
   "execution_count": 4,
   "metadata": {
    "id": "hRqt-NBQxS6N"
   },
   "outputs": [
    {
     "name": "stdout",
     "output_type": "stream",
     "text": [
      "Found 28709 images belonging to 7 classes.\n"
     ]
    }
   ],
   "source": [
    "# Preprocess all test images\n",
    "train_generator = train_data_gen.flow_from_directory(\n",
    "        'data/train',\n",
    "        target_size=(48, 48),\n",
    "        batch_size=64,\n",
    "        color_mode=\"grayscale\",\n",
    "        class_mode='categorical')"
   ]
  },
  {
   "cell_type": "code",
   "execution_count": 5,
   "metadata": {
    "id": "rDMtaUayxS3u"
   },
   "outputs": [
    {
     "name": "stdout",
     "output_type": "stream",
     "text": [
      "Found 7178 images belonging to 7 classes.\n"
     ]
    }
   ],
   "source": [
    "# Preprocess all train images\n",
    "validation_generator = validation_data_gen.flow_from_directory(\n",
    "        'data/test',\n",
    "        target_size=(48, 48),\n",
    "        batch_size=64,\n",
    "        color_mode=\"grayscale\",\n",
    "        class_mode='categorical')"
   ]
  },
  {
   "cell_type": "code",
   "execution_count": 6,
   "metadata": {
    "id": "wwMoVCEQxS1H"
   },
   "outputs": [],
   "source": [
    "# create model structure\n",
    "emotion_model = Sequential()\n",
    "\n",
    "emotion_model.add(Conv2D(32, kernel_size=(3, 3), activation='relu', input_shape=(48, 48, 1)))\n",
    "emotion_model.add(Conv2D(64, kernel_size=(3, 3), activation='relu'))\n",
    "emotion_model.add(MaxPooling2D(pool_size=(2, 2)))\n",
    "emotion_model.add(Dropout(0.25))\n",
    "\n",
    "emotion_model.add(Conv2D(128, kernel_size=(3, 3), activation='relu'))\n",
    "emotion_model.add(MaxPooling2D(pool_size=(2, 2)))\n",
    "emotion_model.add(Conv2D(128, kernel_size=(3, 3), activation='relu'))\n",
    "emotion_model.add(MaxPooling2D(pool_size=(2, 2)))\n",
    "emotion_model.add(Dropout(0.25))\n",
    "\n",
    "emotion_model.add(Flatten())\n",
    "emotion_model.add(Dense(1024, activation='relu'))\n",
    "emotion_model.add(Dropout(0.5))\n",
    "emotion_model.add(Dense(7, activation='softmax'))"
   ]
  },
  {
   "cell_type": "code",
   "execution_count": 7,
   "metadata": {
    "id": "uTnMKcZuxSyY"
   },
   "outputs": [],
   "source": [
    "cv2.ocl.setUseOpenCL(False)"
   ]
  },
  {
   "cell_type": "code",
   "execution_count": 8,
   "metadata": {
    "id": "GPlXRj5xxSvv"
   },
   "outputs": [
    {
     "name": "stderr",
     "output_type": "stream",
     "text": [
      "C:\\Users\\sarah\\anaconda3\\lib\\site-packages\\keras\\optimizers\\optimizer_v2\\adam.py:114: UserWarning: The `lr` argument is deprecated, use `learning_rate` instead.\n",
      "  super().__init__(name, **kwargs)\n"
     ]
    }
   ],
   "source": [
    "emotion_model.compile(loss='categorical_crossentropy', optimizer=Adam(lr=0.0001, decay=1e-6), metrics=['accuracy'])"
   ]
  },
  {
   "cell_type": "code",
   "execution_count": 9,
   "metadata": {
    "id": "vAFnYAPTxSs5"
   },
   "outputs": [
    {
     "name": "stderr",
     "output_type": "stream",
     "text": [
      "C:\\Users\\sarah\\AppData\\Local\\Temp\\ipykernel_3144\\3198193097.py:2: UserWarning: `Model.fit_generator` is deprecated and will be removed in a future version. Please use `Model.fit`, which supports generators.\n",
      "  emotion_model_info = emotion_model.fit_generator(\n"
     ]
    },
    {
     "name": "stdout",
     "output_type": "stream",
     "text": [
      "Epoch 1/50\n",
      "448/448 [==============================] - 322s 716ms/step - loss: 1.7971 - accuracy: 0.2636 - val_loss: 1.6990 - val_accuracy: 0.3380\n",
      "Epoch 2/50\n",
      "448/448 [==============================] - 419s 937ms/step - loss: 1.6284 - accuracy: 0.3648 - val_loss: 1.5322 - val_accuracy: 0.4263\n",
      "Epoch 3/50\n",
      "448/448 [==============================] - 234s 523ms/step - loss: 1.5137 - accuracy: 0.4201 - val_loss: 1.4492 - val_accuracy: 0.4491\n",
      "Epoch 4/50\n",
      "448/448 [==============================] - 207s 462ms/step - loss: 1.4422 - accuracy: 0.4497 - val_loss: 1.3909 - val_accuracy: 0.4689\n",
      "Epoch 5/50\n",
      "448/448 [==============================] - 213s 476ms/step - loss: 1.3792 - accuracy: 0.4764 - val_loss: 1.3430 - val_accuracy: 0.4873\n",
      "Epoch 6/50\n",
      "448/448 [==============================] - 186s 414ms/step - loss: 1.3267 - accuracy: 0.4942 - val_loss: 1.2898 - val_accuracy: 0.5092\n",
      "Epoch 7/50\n",
      "448/448 [==============================] - 388s 866ms/step - loss: 1.2932 - accuracy: 0.5108 - val_loss: 1.2650 - val_accuracy: 0.5211\n",
      "Epoch 8/50\n",
      "448/448 [==============================] - 316s 706ms/step - loss: 1.2529 - accuracy: 0.5269 - val_loss: 1.2391 - val_accuracy: 0.5286\n",
      "Epoch 9/50\n",
      "448/448 [==============================] - 318s 711ms/step - loss: 1.2228 - accuracy: 0.5405 - val_loss: 1.2171 - val_accuracy: 0.5338\n",
      "Epoch 10/50\n",
      "448/448 [==============================] - 180s 401ms/step - loss: 1.1899 - accuracy: 0.5525 - val_loss: 1.1947 - val_accuracy: 0.5472\n",
      "Epoch 11/50\n",
      "448/448 [==============================] - 172s 384ms/step - loss: 1.1691 - accuracy: 0.5609 - val_loss: 1.1794 - val_accuracy: 0.5518\n",
      "Epoch 12/50\n",
      "448/448 [==============================] - 145s 323ms/step - loss: 1.1416 - accuracy: 0.5734 - val_loss: 1.1623 - val_accuracy: 0.5600\n",
      "Epoch 13/50\n",
      "448/448 [==============================] - 147s 329ms/step - loss: 1.1149 - accuracy: 0.5828 - val_loss: 1.1476 - val_accuracy: 0.5650\n",
      "Epoch 14/50\n",
      "448/448 [==============================] - 154s 344ms/step - loss: 1.0922 - accuracy: 0.5912 - val_loss: 1.1336 - val_accuracy: 0.5783\n",
      "Epoch 15/50\n",
      "448/448 [==============================] - 153s 342ms/step - loss: 1.0683 - accuracy: 0.6040 - val_loss: 1.1279 - val_accuracy: 0.5778\n",
      "Epoch 16/50\n",
      "448/448 [==============================] - 156s 348ms/step - loss: 1.0489 - accuracy: 0.6102 - val_loss: 1.1206 - val_accuracy: 0.5809\n",
      "Epoch 17/50\n",
      "448/448 [==============================] - 159s 355ms/step - loss: 1.0290 - accuracy: 0.6186 - val_loss: 1.1085 - val_accuracy: 0.5887\n",
      "Epoch 18/50\n",
      "448/448 [==============================] - 159s 355ms/step - loss: 1.0021 - accuracy: 0.6273 - val_loss: 1.0985 - val_accuracy: 0.5878\n",
      "Epoch 19/50\n",
      "448/448 [==============================] - 158s 353ms/step - loss: 0.9811 - accuracy: 0.6346 - val_loss: 1.0952 - val_accuracy: 0.5898\n",
      "Epoch 20/50\n",
      "448/448 [==============================] - 152s 338ms/step - loss: 0.9614 - accuracy: 0.6441 - val_loss: 1.0807 - val_accuracy: 0.5981\n",
      "Epoch 21/50\n",
      "448/448 [==============================] - 153s 341ms/step - loss: 0.9379 - accuracy: 0.6525 - val_loss: 1.0783 - val_accuracy: 0.6010\n",
      "Epoch 22/50\n",
      "448/448 [==============================] - 157s 351ms/step - loss: 0.9171 - accuracy: 0.6636 - val_loss: 1.0716 - val_accuracy: 0.6070\n",
      "Epoch 23/50\n",
      "448/448 [==============================] - 149s 333ms/step - loss: 0.8951 - accuracy: 0.6703 - val_loss: 1.0830 - val_accuracy: 0.5988\n",
      "Epoch 24/50\n",
      "448/448 [==============================] - 153s 341ms/step - loss: 0.8735 - accuracy: 0.6783 - val_loss: 1.0695 - val_accuracy: 0.5988\n",
      "Epoch 25/50\n",
      "448/448 [==============================] - 150s 336ms/step - loss: 0.8468 - accuracy: 0.6923 - val_loss: 1.0668 - val_accuracy: 0.6041\n",
      "Epoch 26/50\n",
      "448/448 [==============================] - 151s 336ms/step - loss: 0.8244 - accuracy: 0.6976 - val_loss: 1.0684 - val_accuracy: 0.6157\n",
      "Epoch 27/50\n",
      "448/448 [==============================] - 145s 324ms/step - loss: 0.7988 - accuracy: 0.7084 - val_loss: 1.0744 - val_accuracy: 0.6133\n",
      "Epoch 28/50\n",
      "448/448 [==============================] - 144s 322ms/step - loss: 0.7777 - accuracy: 0.7152 - val_loss: 1.0658 - val_accuracy: 0.6145\n",
      "Epoch 29/50\n",
      "448/448 [==============================] - 153s 341ms/step - loss: 0.7598 - accuracy: 0.7220 - val_loss: 1.0645 - val_accuracy: 0.6138\n",
      "Epoch 30/50\n",
      "448/448 [==============================] - 158s 353ms/step - loss: 0.7317 - accuracy: 0.7320 - val_loss: 1.0671 - val_accuracy: 0.6154\n",
      "Epoch 31/50\n",
      "448/448 [==============================] - 175s 390ms/step - loss: 0.7189 - accuracy: 0.7381 - val_loss: 1.0614 - val_accuracy: 0.6197\n",
      "Epoch 32/50\n",
      "448/448 [==============================] - 172s 385ms/step - loss: 0.6991 - accuracy: 0.7464 - val_loss: 1.0722 - val_accuracy: 0.6177\n",
      "Epoch 33/50\n",
      "448/448 [==============================] - 180s 402ms/step - loss: 0.6789 - accuracy: 0.7519 - val_loss: 1.0662 - val_accuracy: 0.6211\n",
      "Epoch 34/50\n",
      "448/448 [==============================] - 167s 373ms/step - loss: 0.6601 - accuracy: 0.7606 - val_loss: 1.0651 - val_accuracy: 0.6197\n",
      "Epoch 35/50\n",
      "448/448 [==============================] - 147s 329ms/step - loss: 0.6353 - accuracy: 0.7700 - val_loss: 1.0759 - val_accuracy: 0.6215\n",
      "Epoch 36/50\n",
      "448/448 [==============================] - 161s 360ms/step - loss: 0.6149 - accuracy: 0.7780 - val_loss: 1.0991 - val_accuracy: 0.6180\n",
      "Epoch 37/50\n",
      "448/448 [==============================] - 152s 338ms/step - loss: 0.5903 - accuracy: 0.7832 - val_loss: 1.1030 - val_accuracy: 0.6250\n",
      "Epoch 38/50\n",
      "448/448 [==============================] - 149s 333ms/step - loss: 0.5759 - accuracy: 0.7916 - val_loss: 1.0919 - val_accuracy: 0.6232\n",
      "Epoch 39/50\n",
      "448/448 [==============================] - 146s 326ms/step - loss: 0.5514 - accuracy: 0.8019 - val_loss: 1.0981 - val_accuracy: 0.6225\n",
      "Epoch 40/50\n",
      "448/448 [==============================] - 155s 345ms/step - loss: 0.5431 - accuracy: 0.8038 - val_loss: 1.1094 - val_accuracy: 0.6277\n",
      "Epoch 41/50\n",
      "448/448 [==============================] - 152s 339ms/step - loss: 0.5201 - accuracy: 0.8109 - val_loss: 1.1151 - val_accuracy: 0.6223\n",
      "Epoch 42/50\n",
      "448/448 [==============================] - 159s 355ms/step - loss: 0.5065 - accuracy: 0.8178 - val_loss: 1.1181 - val_accuracy: 0.6249\n",
      "Epoch 43/50\n",
      "448/448 [==============================] - 149s 331ms/step - loss: 0.4908 - accuracy: 0.8210 - val_loss: 1.1214 - val_accuracy: 0.6203\n",
      "Epoch 44/50\n",
      "448/448 [==============================] - 151s 336ms/step - loss: 0.4721 - accuracy: 0.8304 - val_loss: 1.1384 - val_accuracy: 0.6176\n",
      "Epoch 45/50\n",
      "448/448 [==============================] - 153s 342ms/step - loss: 0.4588 - accuracy: 0.8342 - val_loss: 1.1387 - val_accuracy: 0.6239\n",
      "Epoch 46/50\n",
      "448/448 [==============================] - 155s 346ms/step - loss: 0.4436 - accuracy: 0.8392 - val_loss: 1.1456 - val_accuracy: 0.6235\n",
      "Epoch 47/50\n",
      "448/448 [==============================] - 154s 345ms/step - loss: 0.4251 - accuracy: 0.8456 - val_loss: 1.1564 - val_accuracy: 0.6253\n",
      "Epoch 48/50\n",
      "448/448 [==============================] - 245s 547ms/step - loss: 0.4080 - accuracy: 0.8551 - val_loss: 1.1852 - val_accuracy: 0.6211\n",
      "Epoch 49/50\n",
      "448/448 [==============================] - 266s 594ms/step - loss: 0.4021 - accuracy: 0.8559 - val_loss: 1.1731 - val_accuracy: 0.6222\n",
      "Epoch 50/50\n",
      "448/448 [==============================] - 151s 337ms/step - loss: 0.3947 - accuracy: 0.8593 - val_loss: 1.1816 - val_accuracy: 0.6253\n"
     ]
    }
   ],
   "source": [
    "# Train the neural network/model\n",
    "emotion_model_info = emotion_model.fit_generator(\n",
    "        train_generator,\n",
    "        steps_per_epoch=28709 // 64,\n",
    "        epochs=50,\n",
    "        validation_data=validation_generator,\n",
    "        validation_steps=7178 // 64)"
   ]
  },
  {
   "cell_type": "code",
   "execution_count": 10,
   "metadata": {},
   "outputs": [
    {
     "data": {
      "text/plain": [
       "{'loss': [1.7970688343048096,\n",
       "  1.628352165222168,\n",
       "  1.5137122869491577,\n",
       "  1.4422067403793335,\n",
       "  1.3791851997375488,\n",
       "  1.3267306089401245,\n",
       "  1.2931774854660034,\n",
       "  1.2528594732284546,\n",
       "  1.2228360176086426,\n",
       "  1.1898516416549683,\n",
       "  1.1690690517425537,\n",
       "  1.1415547132492065,\n",
       "  1.114912986755371,\n",
       "  1.092185139656067,\n",
       "  1.06826913356781,\n",
       "  1.0489305257797241,\n",
       "  1.0290191173553467,\n",
       "  1.00212824344635,\n",
       "  0.9810900688171387,\n",
       "  0.9614143371582031,\n",
       "  0.9379279613494873,\n",
       "  0.9170838594436646,\n",
       "  0.8951014876365662,\n",
       "  0.8734738826751709,\n",
       "  0.8468305468559265,\n",
       "  0.8244253993034363,\n",
       "  0.7988300323486328,\n",
       "  0.7776807546615601,\n",
       "  0.7597525119781494,\n",
       "  0.7317274212837219,\n",
       "  0.7188676595687866,\n",
       "  0.6991111040115356,\n",
       "  0.67887282371521,\n",
       "  0.6600795388221741,\n",
       "  0.6352993249893188,\n",
       "  0.6148524284362793,\n",
       "  0.5902706980705261,\n",
       "  0.5758898258209229,\n",
       "  0.5513865351676941,\n",
       "  0.5430536866188049,\n",
       "  0.5201180577278137,\n",
       "  0.5064505338668823,\n",
       "  0.490845650434494,\n",
       "  0.4720563292503357,\n",
       "  0.45876508951187134,\n",
       "  0.4436425566673279,\n",
       "  0.4251169264316559,\n",
       "  0.40796959400177,\n",
       "  0.402140736579895,\n",
       "  0.3947189748287201],\n",
       " 'accuracy': [0.2636062204837799,\n",
       "  0.36481061577796936,\n",
       "  0.42014312744140625,\n",
       "  0.44967707991600037,\n",
       "  0.4763832986354828,\n",
       "  0.49418747425079346,\n",
       "  0.510769784450531,\n",
       "  0.5268633365631104,\n",
       "  0.5405131578445435,\n",
       "  0.5524524450302124,\n",
       "  0.5608657598495483,\n",
       "  0.5733636021614075,\n",
       "  0.5827544331550598,\n",
       "  0.5912026762962341,\n",
       "  0.603979766368866,\n",
       "  0.6101937294006348,\n",
       "  0.6185721755027771,\n",
       "  0.6272997260093689,\n",
       "  0.6346307992935181,\n",
       "  0.6440565586090088,\n",
       "  0.6525048017501831,\n",
       "  0.663641095161438,\n",
       "  0.670274019241333,\n",
       "  0.6782684326171875,\n",
       "  0.6922674179077148,\n",
       "  0.697573721408844,\n",
       "  0.7083958983421326,\n",
       "  0.7152033448219299,\n",
       "  0.7219759225845337,\n",
       "  0.7319951057434082,\n",
       "  0.738069474697113,\n",
       "  0.7463780641555786,\n",
       "  0.7518938779830933,\n",
       "  0.7605865001678467,\n",
       "  0.769977331161499,\n",
       "  0.7779717445373535,\n",
       "  0.7832082509994507,\n",
       "  0.7915866374969482,\n",
       "  0.8019200563430786,\n",
       "  0.8038051724433899,\n",
       "  0.8108919262886047,\n",
       "  0.8178390860557556,\n",
       "  0.8210158944129944,\n",
       "  0.8304067254066467,\n",
       "  0.8341770172119141,\n",
       "  0.8391691446304321,\n",
       "  0.84562748670578,\n",
       "  0.8550532460212708,\n",
       "  0.8558911085128784,\n",
       "  0.8593471646308899],\n",
       " 'val_loss': [1.6989755630493164,\n",
       "  1.532244086265564,\n",
       "  1.4492331743240356,\n",
       "  1.3909467458724976,\n",
       "  1.343031883239746,\n",
       "  1.2897605895996094,\n",
       "  1.2650147676467896,\n",
       "  1.239068627357483,\n",
       "  1.2171016931533813,\n",
       "  1.1947433948516846,\n",
       "  1.1793849468231201,\n",
       "  1.1623209714889526,\n",
       "  1.1475870609283447,\n",
       "  1.1336222887039185,\n",
       "  1.1278588771820068,\n",
       "  1.1205931901931763,\n",
       "  1.1085017919540405,\n",
       "  1.0984877347946167,\n",
       "  1.0952093601226807,\n",
       "  1.0807254314422607,\n",
       "  1.0782662630081177,\n",
       "  1.0716283321380615,\n",
       "  1.083017349243164,\n",
       "  1.0695136785507202,\n",
       "  1.066786527633667,\n",
       "  1.0683759450912476,\n",
       "  1.0743647813796997,\n",
       "  1.0658036470413208,\n",
       "  1.0644727945327759,\n",
       "  1.0671484470367432,\n",
       "  1.0614320039749146,\n",
       "  1.07216215133667,\n",
       "  1.066184401512146,\n",
       "  1.0650622844696045,\n",
       "  1.075936198234558,\n",
       "  1.0991171598434448,\n",
       "  1.1029678583145142,\n",
       "  1.091867208480835,\n",
       "  1.098056435585022,\n",
       "  1.1093837022781372,\n",
       "  1.1151028871536255,\n",
       "  1.1181304454803467,\n",
       "  1.1214172840118408,\n",
       "  1.1384309530258179,\n",
       "  1.1386698484420776,\n",
       "  1.1455762386322021,\n",
       "  1.156449556350708,\n",
       "  1.185221791267395,\n",
       "  1.1730520725250244,\n",
       "  1.1816322803497314],\n",
       " 'val_accuracy': [0.3380301296710968,\n",
       "  0.4263392984867096,\n",
       "  0.4490792453289032,\n",
       "  0.4688895046710968,\n",
       "  0.4873046875,\n",
       "  0.5092076063156128,\n",
       "  0.5210658311843872,\n",
       "  0.5285993218421936,\n",
       "  0.5337611436843872,\n",
       "  0.5471540093421936,\n",
       "  0.5517578125,\n",
       "  0.5599888563156128,\n",
       "  0.5650111436843872,\n",
       "  0.5782645344734192,\n",
       "  0.5778459906578064,\n",
       "  0.5809151530265808,\n",
       "  0.5887276530265808,\n",
       "  0.5877510905265808,\n",
       "  0.58984375,\n",
       "  0.5980747938156128,\n",
       "  0.6010044813156128,\n",
       "  0.6070033311843872,\n",
       "  0.5987723469734192,\n",
       "  0.5987723469734192,\n",
       "  0.6040736436843872,\n",
       "  0.6156529188156128,\n",
       "  0.61328125,\n",
       "  0.6145368218421936,\n",
       "  0.6138392686843872,\n",
       "  0.6153739094734192,\n",
       "  0.6196986436843872,\n",
       "  0.6177455186843872,\n",
       "  0.62109375,\n",
       "  0.6196986436843872,\n",
       "  0.6215122938156128,\n",
       "  0.6180245280265808,\n",
       "  0.625,\n",
       "  0.6231864094734192,\n",
       "  0.6224888563156128,\n",
       "  0.6276506781578064,\n",
       "  0.6223493218421936,\n",
       "  0.6248604655265808,\n",
       "  0.6202567219734192,\n",
       "  0.6176060438156128,\n",
       "  0.6238839030265808,\n",
       "  0.6234654188156128,\n",
       "  0.6252790093421936,\n",
       "  0.62109375,\n",
       "  0.6222098469734192,\n",
       "  0.6252790093421936]}"
      ]
     },
     "execution_count": 10,
     "metadata": {},
     "output_type": "execute_result"
    }
   ],
   "source": [
    "# history from 10 epochs that were ran by a model (loss, accuracy, validation loss, validation accuracy)\n",
    "emotion_model_info.history"
   ]
  },
  {
   "cell_type": "code",
   "execution_count": 11,
   "metadata": {},
   "outputs": [
    {
     "data": {
      "text/plain": [
       "dict_keys(['loss', 'accuracy', 'val_loss', 'val_accuracy'])"
      ]
     },
     "execution_count": 11,
     "metadata": {},
     "output_type": "execute_result"
    }
   ],
   "source": [
    "# we get the dictionary 'history'\n",
    "emotion_model_info.history.keys()"
   ]
  },
  {
   "cell_type": "code",
   "execution_count": 12,
   "metadata": {},
   "outputs": [
    {
     "data": {
      "text/plain": [
       "Text(0.5, 1.0, 'Accuracy with epochs')"
      ]
     },
     "execution_count": 12,
     "metadata": {},
     "output_type": "execute_result"
    },
    {
     "data": {
      "image/png": "[encoded data removed]",
      "text/plain": [
       "<Figure size 720x360 with 2 Axes>"
      ]
     },
     "metadata": {
      "needs_background": "light"
     },
     "output_type": "display_data"
    }
   ],
   "source": [
    "fig,ax=plt.subplots(1,2,figsize=(10,5))\n",
    "\n",
    "ax[0].plot(emotion_model_info.history['loss'],label='training')\n",
    "ax[0].plot(emotion_model_info.history['val_loss'],label='validation')\n",
    "ax[0].legend()\n",
    "ax[0].set_title('Loss with epochs')\n",
    "\n",
    "ax[1].plot(emotion_model_info.history['accuracy'],label='training')\n",
    "ax[1].plot(emotion_model_info.history['val_accuracy'],label='validation')\n",
    "ax[1].legend()\n",
    "ax[1].set_title('Accuracy with epochs')"
   ]
  },
  {
   "cell_type": "code",
   "execution_count": 13,
   "metadata": {
    "id": "M8xsUs0axSqD"
   },
   "outputs": [],
   "source": [
    "# save model structure in jason file\n",
    "model_json = emotion_model.to_json()\n",
    "with open(\"emotion_model.json\", \"w\") as json_file:\n",
    "    json_file.write(model_json)"
   ]
  },
  {
   "cell_type": "code",
   "execution_count": 14,
   "metadata": {
    "id": "VCU7oT06xSnh"
   },
   "outputs": [],
   "source": [
    "# save trained model weight in .h5 file\n",
    "emotion_model.save_weights('emotion_model.h5')"
   ]
  },
  {
   "cell_type": "markdown",
   "metadata": {
    "id": "h-odET70xr25"
   },
   "source": [
    "# **TestEmotionDetector**"
   ]
  },
  {
   "cell_type": "code",
   "execution_count": 15,
   "metadata": {
    "id": "zyJTcxxcxShg"
   },
   "outputs": [],
   "source": [
    "import cv2\n",
    "import numpy as np\n",
    "from keras.models import model_from_json"
   ]
  },
  {
   "cell_type": "code",
   "execution_count": 16,
   "metadata": {
    "id": "scTfcFWOxScJ"
   },
   "outputs": [],
   "source": [
    "emotion_dict = {0: \"Angry\", 1: \"Disgusted\", 2: \"Fearful\", 3: \"Happy\", 4: \"Neutral\", 5: \"Sad\", 6: \"Surprised\"}"
   ]
  },
  {
   "cell_type": "code",
   "execution_count": 17,
   "metadata": {
    "id": "5sLVYlmBxSZ5"
   },
   "outputs": [],
   "source": [
    "# load json and create model\n",
    "json_file = open('model/emotion_model.json', 'r')\n",
    "loaded_model_json = json_file.read()\n",
    "json_file.close()\n",
    "emotion_model = model_from_json(loaded_model_json)"
   ]
  },
  {
   "cell_type": "code",
   "execution_count": 18,
   "metadata": {
    "id": "bAwSH9QexSXk"
   },
   "outputs": [
    {
     "name": "stdout",
     "output_type": "stream",
     "text": [
      "Loaded model from disk\n"
     ]
    }
   ],
   "source": [
    "# load weights into new model\n",
    "emotion_model.load_weights(\"model/emotion_model.h5\")\n",
    "print(\"Loaded model from disk\")"
   ]
  },
  {
   "cell_type": "code",
   "execution_count": 20,
   "metadata": {
    "id": "4NJUDJtkxSVB"
   },
   "outputs": [
    {
     "name": "stdout",
     "output_type": "stream",
     "text": [
      "1/1 [==============================] - 0s 91ms/step\n",
      "1/1 [==============================] - 0s 74ms/step\n",
      "1/1 [==============================] - 0s 77ms/step\n",
      "1/1 [==============================] - 0s 79ms/step\n",
      "1/1 [==============================] - 0s 32ms/step\n",
      "1/1 [==============================] - 0s 46ms/step\n",
      "1/1 [==============================] - 0s 54ms/step\n",
      "1/1 [==============================] - 0s 26ms/step\n",
      "1/1 [==============================] - 0s 40ms/step\n",
      "1/1 [==============================] - 0s 27ms/step\n",
      "1/1 [==============================] - 0s 26ms/step\n",
      "1/1 [==============================] - 0s 29ms/step\n",
      "1/1 [==============================] - 0s 26ms/step\n",
      "1/1 [==============================] - 0s 26ms/step\n",
      "1/1 [==============================] - 0s 26ms/step\n",
      "1/1 [==============================] - 0s 108ms/step\n",
      "1/1 [==============================] - 0s 29ms/step\n",
      "1/1 [==============================] - 0s 31ms/step\n",
      "1/1 [==============================] - 0s 27ms/step\n",
      "1/1 [==============================] - 0s 31ms/step\n",
      "1/1 [==============================] - 0s 39ms/step\n",
      "1/1 [==============================] - 0s 35ms/step\n",
      "1/1 [==============================] - 0s 30ms/step\n",
      "1/1 [==============================] - 0s 37ms/step\n",
      "1/1 [==============================] - 0s 92ms/step\n",
      "1/1 [==============================] - 0s 34ms/step\n",
      "1/1 [==============================] - 0s 29ms/step\n",
      "1/1 [==============================] - 0s 95ms/step\n",
      "1/1 [==============================] - 0s 28ms/step\n",
      "1/1 [==============================] - 0s 28ms/step\n",
      "1/1 [==============================] - 0s 28ms/step\n",
      "1/1 [==============================] - 0s 28ms/step\n",
      "1/1 [==============================] - 0s 32ms/step\n",
      "1/1 [==============================] - 0s 27ms/step\n",
      "1/1 [==============================] - 0s 26ms/step\n",
      "1/1 [==============================] - 0s 28ms/step\n",
      "1/1 [==============================] - 0s 32ms/step\n",
      "1/1 [==============================] - 0s 27ms/step\n",
      "1/1 [==============================] - 0s 33ms/step\n",
      "1/1 [==============================] - 0s 28ms/step\n",
      "1/1 [==============================] - 0s 28ms/step\n",
      "1/1 [==============================] - 0s 45ms/step\n",
      "1/1 [==============================] - 0s 32ms/step\n",
      "1/1 [==============================] - 0s 82ms/step\n",
      "1/1 [==============================] - 0s 32ms/step\n",
      "1/1 [==============================] - 0s 32ms/step\n",
      "1/1 [==============================] - 0s 33ms/step\n",
      "1/1 [==============================] - 0s 40ms/step\n",
      "1/1 [==============================] - 0s 32ms/step\n",
      "1/1 [==============================] - 0s 30ms/step\n",
      "1/1 [==============================] - 0s 32ms/step\n",
      "1/1 [==============================] - 0s 62ms/step\n",
      "1/1 [==============================] - 0s 86ms/step\n",
      "1/1 [==============================] - 0s 122ms/step\n",
      "1/1 [==============================] - 0s 56ms/step\n",
      "1/1 [==============================] - 0s 54ms/step\n",
      "1/1 [==============================] - 0s 40ms/step\n",
      "1/1 [==============================] - 0s 117ms/step\n",
      "1/1 [==============================] - 0s 29ms/step\n",
      "1/1 [==============================] - 0s 41ms/step\n",
      "1/1 [==============================] - 0s 33ms/step\n"
     ]
    },
    {
     "ename": "KeyboardInterrupt",
     "evalue": "",
     "output_type": "error",
     "traceback": [
      "\u001b[1;31m---------------------------------------------------------------------------\u001b[0m",
      "\u001b[1;31mKeyboardInterrupt\u001b[0m                         Traceback (most recent call last)",
      "Input \u001b[1;32mIn [20]\u001b[0m, in \u001b[0;36m<cell line: 9>\u001b[1;34m()\u001b[0m\n\u001b[0;32m     14\u001b[0m gray_frame \u001b[38;5;241m=\u001b[39m cv2\u001b[38;5;241m.\u001b[39mcvtColor(frame, cv2\u001b[38;5;241m.\u001b[39mCOLOR_BGR2GRAY)\n\u001b[0;32m     16\u001b[0m \u001b[38;5;66;03m# detect faces available on camera\u001b[39;00m\n\u001b[1;32m---> 17\u001b[0m num_faces \u001b[38;5;241m=\u001b[39m \u001b[43mface_detector\u001b[49m\u001b[38;5;241;43m.\u001b[39;49m\u001b[43mdetectMultiScale\u001b[49m\u001b[43m(\u001b[49m\u001b[43mgray_frame\u001b[49m\u001b[43m,\u001b[49m\u001b[43m \u001b[49m\u001b[43mscaleFactor\u001b[49m\u001b[38;5;241;43m=\u001b[39;49m\u001b[38;5;241;43m1.3\u001b[39;49m\u001b[43m,\u001b[49m\u001b[43m \u001b[49m\u001b[43mminNeighbors\u001b[49m\u001b[38;5;241;43m=\u001b[39;49m\u001b[38;5;241;43m5\u001b[39;49m\u001b[43m)\u001b[49m\n\u001b[0;32m     19\u001b[0m \u001b[38;5;66;03m# take each face available on the camera and Preprocess it\u001b[39;00m\n\u001b[0;32m     20\u001b[0m \u001b[38;5;28;01mfor\u001b[39;00m (x, y, w, h) \u001b[38;5;129;01min\u001b[39;00m num_faces:\n",
      "\u001b[1;31mKeyboardInterrupt\u001b[0m: "
     ]
    }
   ],
   "source": [
    "# start the webcam feed\n",
    "#cap = cv2.VideoCapture(0)\n",
    "\n",
    "# pass here your video path\n",
    "cap = cv2.VideoCapture(\"pexels-gabby-k-5273028.mp4\")\n",
    "\n",
    "while True:\n",
    "    # Find haar cascade to draw bounding box around face\n",
    "    ret, frame = cap.read()\n",
    "    frame = cv2.resize(frame, (1280, 720))\n",
    "    if not ret:\n",
    "        break\n",
    "    face_detector = cv2.CascadeClassifier('haarcascades/haarcascade_frontalface_default.xml')\n",
    "    gray_frame = cv2.cvtColor(frame, cv2.COLOR_BGR2GRAY)\n",
    "\n",
    "    # detect faces available on camera\n",
    "    num_faces = face_detector.detectMultiScale(gray_frame, scaleFactor=1.3, minNeighbors=5)\n",
    "\n",
    "    # take each face available on the camera and Preprocess it\n",
    "    for (x, y, w, h) in num_faces:\n",
    "        cv2.rectangle(frame, (x, y-50), (x+w, y+h+10), (0, 255, 0), 4)\n",
    "        roi_gray_frame = gray_frame[y:y + h, x:x + w]\n",
    "        cropped_img = np.expand_dims(np.expand_dims(cv2.resize(roi_gray_frame, (48, 48)), -1), 0)\n",
    "\n",
    "        # predict the emotions\n",
    "        emotion_prediction = emotion_model.predict(cropped_img)\n",
    "        maxindex = int(np.argmax(emotion_prediction))\n",
    "        cv2.putText(frame, emotion_dict[maxindex], (x+5, y-20), cv2.FONT_HERSHEY_SIMPLEX, 1, (255, 0, 0), 2, cv2.LINE_AA)\n",
    "\n",
    "    cv2.imshow('Emotion Detection', frame)\n",
    "    if cv2.waitKey(1) & 0xFF == ord('q'):\n",
    "        break\n",
    "\n",
    "cap.release()\n",
    "cv2.destroyAllWindows()\n"
   ]
  },
  {
   "cell_type": "markdown",
   "metadata": {
    "id": "JlUfKo07ytpq"
   },
   "source": [
    "# **EvaluateEmotionDetector**"
   ]
  },
  {
   "cell_type": "code",
   "execution_count": 21,
   "metadata": {
    "id": "qVTEm-INxSP_"
   },
   "outputs": [],
   "source": [
    "emotion_dict = {0: \"Angry\", 1: \"Disgusted\", 2: \"Fearful\", 3: \"Happy\", 4: \"Neutral\", 5: \"Sad\", 6: \"Surprised\"}"
   ]
  },
  {
   "cell_type": "code",
   "execution_count": 22,
   "metadata": {
    "id": "i6MpayMmywcY"
   },
   "outputs": [],
   "source": [
    "# load json and create model\n",
    "json_file = open('model/emotion_model.json', 'r')\n",
    "loaded_model_json = json_file.read()\n",
    "json_file.close()\n",
    "emotion_model = model_from_json(loaded_model_json)"
   ]
  },
  {
   "cell_type": "code",
   "execution_count": 23,
   "metadata": {
    "id": "qffFDjXIywY6"
   },
   "outputs": [
    {
     "name": "stdout",
     "output_type": "stream",
     "text": [
      "Loaded model from disk\n"
     ]
    }
   ],
   "source": [
    "# load weights into new model\n",
    "emotion_model.load_weights(\"model/emotion_model.h5\")\n",
    "print(\"Loaded model from disk\")"
   ]
  },
  {
   "cell_type": "code",
   "execution_count": 24,
   "metadata": {
    "id": "Gp4Aw1Q1ywU0"
   },
   "outputs": [],
   "source": [
    "# Initialize image data generator with rescaling\n",
    "test_data_gen = ImageDataGenerator(rescale=1./255)"
   ]
  },
  {
   "cell_type": "code",
   "execution_count": 25,
   "metadata": {
    "id": "LgO_Gc8nywSJ"
   },
   "outputs": [
    {
     "name": "stdout",
     "output_type": "stream",
     "text": [
      "Found 7178 images belonging to 7 classes.\n"
     ]
    }
   ],
   "source": [
    "# Preprocess all test images\n",
    "test_generator = test_data_gen.flow_from_directory(\n",
    "        'data/test',\n",
    "        target_size=(48, 48),\n",
    "        batch_size=64,\n",
    "        color_mode=\"grayscale\",\n",
    "        class_mode='categorical')"
   ]
  },
  {
   "cell_type": "code",
   "execution_count": 26,
   "metadata": {
    "id": "IjmvHdcHywPu"
   },
   "outputs": [
    {
     "name": "stderr",
     "output_type": "stream",
     "text": [
      "C:\\Users\\sarah\\AppData\\Local\\Temp\\ipykernel_3144\\3003485560.py:2: UserWarning: `Model.predict_generator` is deprecated and will be removed in a future version. Please use `Model.predict`, which supports generators.\n",
      "  predictions = emotion_model.predict_generator(test_generator)\n"
     ]
    }
   ],
   "source": [
    "# do prediction on test data\n",
    "predictions = emotion_model.predict_generator(test_generator)"
   ]
  },
  {
   "cell_type": "code",
   "execution_count": 27,
   "metadata": {
    "id": "VBzK3RilywNK"
   },
   "outputs": [
    {
     "name": "stdout",
     "output_type": "stream",
     "text": [
      "-----------------------------------------------------------------\n",
      "[[ 92  10 111 237 176 206 126]\n",
      " [  8   1  15  29  24  23  11]\n",
      " [111  23 138 253 181 208 110]\n",
      " [213   9 221 486 319 326 200]\n",
      " [125  11 163 325 211 237 161]\n",
      " [133  20 154 329 236 239 136]\n",
      " [105  12 113 233 135 142  91]]\n"
     ]
    },
    {
     "data": {
      "image/png": "[encoded data removed]",
      "text/plain": [
       "<Figure size 432x288 with 2 Axes>"
      ]
     },
     "metadata": {
      "needs_background": "light"
     },
     "output_type": "display_data"
    }
   ],
   "source": [
    "# see predictions\n",
    "# for result in predictions:\n",
    "#     max_index = int(np.argmax(result))\n",
    "#     print(emotion_dict[max_index])\n",
    "\n",
    "print(\"-----------------------------------------------------------------\")\n",
    "# confusion matrix\n",
    "c_matrix = confusion_matrix(test_generator.classes, predictions.argmax(axis=1))\n",
    "print(c_matrix)\n",
    "cm_display = ConfusionMatrixDisplay(confusion_matrix=c_matrix, display_labels=emotion_dict)\n",
    "cm_display.plot(cmap=plt.cm.Blues)\n",
    "plt.show()"
   ]
  },
  {
   "cell_type": "code",
   "execution_count": 28,
   "metadata": {
    "id": "jv6nyGmnywKj"
   },
   "outputs": [
    {
     "name": "stdout",
     "output_type": "stream",
     "text": [
      "-----------------------------------------------------------------\n",
      "              precision    recall  f1-score   support\n",
      "\n",
      "           0       0.12      0.10      0.11       958\n",
      "           1       0.01      0.01      0.01       111\n",
      "           2       0.15      0.13      0.14      1024\n",
      "           3       0.26      0.27      0.27      1774\n",
      "           4       0.16      0.17      0.17      1233\n",
      "           5       0.17      0.19      0.18      1247\n",
      "           6       0.11      0.11      0.11       831\n",
      "\n",
      "    accuracy                           0.18      7178\n",
      "   macro avg       0.14      0.14      0.14      7178\n",
      "weighted avg       0.17      0.18      0.17      7178\n",
      "\n"
     ]
    }
   ],
   "source": [
    "# Classification report\n",
    "print(\"-----------------------------------------------------------------\")\n",
    "print(classification_report(test_generator.classes, predictions.argmax(axis=1)))"
   ]
  }
 ],
 "metadata": {
  "colab": {
   "provenance": []
  },
  "kernelspec": {
   "display_name": "Python 3 (ipykernel)",
   "language": "python",
   "name": "python3"
  },
  "language_info": {
   "codemirror_mode": {
    "name": "ipython",
    "version": 3
   },
   "file_extension": ".py",
   "mimetype": "text/x-python",
   "name": "python",
   "nbconvert_exporter": "python",
   "pygments_lexer": "ipython3",
   "version": "3.9.12"
  }
 },
 "nbformat": 4,
 "nbformat_minor": 1
}
